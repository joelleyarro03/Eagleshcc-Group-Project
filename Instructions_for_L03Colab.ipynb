{
  "nbformat": 4,
  "nbformat_minor": 0,
  "metadata": {
    "colab": {
      "provenance": [],
      "include_colab_link": true
    },
    "kernelspec": {
      "name": "python3",
      "display_name": "Python 3"
    },
    "language_info": {
      "name": "python"
    }
  },
  "cells": [
    {
      "cell_type": "markdown",
      "metadata": {
        "id": "view-in-github",
        "colab_type": "text"
      },
      "source": [
        "<a href=\"https://colab.research.google.com/github/joelleyarro03/Eagleshcc-Group-Project/blob/main/Instructions_for_L03Colab.ipynb\" target=\"_parent\"><img src=\"https://colab.research.google.com/assets/colab-badge.svg\" alt=\"Open In Colab\"/></a>"
      ]
    },
    {
      "cell_type": "markdown",
      "source": [
        "This is a print statmen....//.;"
      ],
      "metadata": {
        "id": "LVqd6rCt9S1K"
      }
    },
    {
      "cell_type": "code",
      "source": [
        "# prompt: This is a print statmen....//.; print(\"mylab\")\n",
        "\n",
        "print(\"mylab\")\n"
      ],
      "metadata": {
        "colab": {
          "base_uri": "https://localhost:8080/"
        },
        "id": "mkJTcgWUHnib",
        "outputId": "b9dcaaaf-d181-4add-db70-a282046f59d4"
      },
      "execution_count": 7,
      "outputs": [
        {
          "output_type": "stream",
          "name": "stdout",
          "text": [
            "mylab\n"
          ]
        }
      ]
    },
    {
      "cell_type": "code",
      "execution_count": 8,
      "metadata": {
        "colab": {
          "base_uri": "https://localhost:8080/"
        },
        "id": "yninB7xk9NKm",
        "outputId": "1f170b69-41e2-4f57-a7fe-3705cb522ebb"
      },
      "outputs": [
        {
          "output_type": "stream",
          "name": "stdout",
          "text": [
            "mylab\n"
          ]
        }
      ],
      "source": [
        "print(\"mylab\")"
      ]
    },
    {
      "cell_type": "markdown",
      "source": [
        "Downloading the dataset from kaggle and timed it out"
      ],
      "metadata": {
        "id": "Bc--oX1VIbgV"
      }
    },
    {
      "cell_type": "code",
      "source": [
        "# prompt: download dataset frm kaggle and timed it\n",
        "\n",
        "import time\n",
        "\n",
        "start_time = time.time()\n",
        "\n",
        "!pip install kaggle\n",
        "\n",
        "# Replace with your Kaggle API credentials\n",
        "!mkdir ~/.kaggle\n",
        "!echo '{\"username\":\"YOUR_KAGGLE_USERNAME\",\"key\":\"YOUR_KAGGLE_API_KEY\"}' > ~/.kaggle/kaggle.json\n",
        "!chmod 600 ~/.kaggle/kaggle.json\n",
        "\n",
        "# Replace with the dataset URL from Kaggle\n",
        "!kaggle datasets download -d thedevastator/titanic-dataset\n",
        "\n",
        "end_time = time.time()\n",
        "\n",
        "print(f\"Downloaded dataset in {end_time - start_time:.2f} seconds\")\n"
      ],
      "metadata": {
        "colab": {
          "base_uri": "https://localhost:8080/"
        },
        "id": "nM3My0h-IAD8",
        "outputId": "55a51dad-a2cf-4b1e-b12f-6e8ed0afe358"
      },
      "execution_count": 9,
      "outputs": [
        {
          "output_type": "stream",
          "name": "stdout",
          "text": [
            "Requirement already satisfied: kaggle in /usr/local/lib/python3.11/dist-packages (1.6.17)\n",
            "Requirement already satisfied: six>=1.10 in /usr/local/lib/python3.11/dist-packages (from kaggle) (1.17.0)\n",
            "Requirement already satisfied: certifi>=2023.7.22 in /usr/local/lib/python3.11/dist-packages (from kaggle) (2025.1.31)\n",
            "Requirement already satisfied: python-dateutil in /usr/local/lib/python3.11/dist-packages (from kaggle) (2.8.2)\n",
            "Requirement already satisfied: requests in /usr/local/lib/python3.11/dist-packages (from kaggle) (2.32.3)\n",
            "Requirement already satisfied: tqdm in /usr/local/lib/python3.11/dist-packages (from kaggle) (4.67.1)\n",
            "Requirement already satisfied: python-slugify in /usr/local/lib/python3.11/dist-packages (from kaggle) (8.0.4)\n",
            "Requirement already satisfied: urllib3 in /usr/local/lib/python3.11/dist-packages (from kaggle) (2.3.0)\n",
            "Requirement already satisfied: bleach in /usr/local/lib/python3.11/dist-packages (from kaggle) (6.2.0)\n",
            "Requirement already satisfied: webencodings in /usr/local/lib/python3.11/dist-packages (from bleach->kaggle) (0.5.1)\n",
            "Requirement already satisfied: text-unidecode>=1.3 in /usr/local/lib/python3.11/dist-packages (from python-slugify->kaggle) (1.3)\n",
            "Requirement already satisfied: charset-normalizer<4,>=2 in /usr/local/lib/python3.11/dist-packages (from requests->kaggle) (3.4.1)\n",
            "Requirement already satisfied: idna<4,>=2.5 in /usr/local/lib/python3.11/dist-packages (from requests->kaggle) (3.10)\n",
            "403 - Forbidden - Permission 'datasets.get' was denied\n",
            "Downloaded dataset in 4.45 seconds\n"
          ]
        }
      ]
    },
    {
      "cell_type": "markdown",
      "source": [],
      "metadata": {
        "id": "UTE7M__OIFf2"
      }
    },
    {
      "cell_type": "markdown",
      "source": [
        "Here i downloaded a dataset from Kaggle and timed it"
      ],
      "metadata": {
        "id": "fpGH0xslIA58"
      }
    },
    {
      "cell_type": "code",
      "source": [
        "# Here download kaggle data set and time it"
      ],
      "metadata": {
        "id": "dvi2vwmo936y"
      },
      "execution_count": 11,
      "outputs": []
    },
    {
      "cell_type": "markdown",
      "source": [
        "# you run the loop command powers_of_five"
      ],
      "metadata": {
        "id": "jRYp7njdJa0K"
      }
    },
    {
      "cell_type": "code",
      "source": [
        "# prompt: # you run the loop command powers_of_five\n",
        "\n",
        "# Assuming 'powers_of_five' refers to a loop calculating powers of 5.\n",
        "# Replace this with your actual 'powers_of_five' loop code.\n",
        "import time\n",
        "\n",
        "start_time = time.time()\n",
        "\n",
        "powers = []\n",
        "for i in range(10):  # Example: calculate the first 10 powers of 5\n",
        "    powers.append(5**i)\n",
        "\n",
        "end_time = time.time()\n",
        "print(f\"powers_of_five loop completed in {end_time-start_time:.4f} seconds\")\n",
        "powers\n"
      ],
      "metadata": {
        "colab": {
          "base_uri": "https://localhost:8080/"
        },
        "id": "UUj5d3PlJhFi",
        "outputId": "e8aa131a-9aa0-403c-97e3-b49790f5d802"
      },
      "execution_count": 13,
      "outputs": [
        {
          "output_type": "stream",
          "name": "stdout",
          "text": [
            "powers_of_five loop completed in 0.0001 seconds\n"
          ]
        },
        {
          "output_type": "execute_result",
          "data": {
            "text/plain": [
              "[1, 5, 25, 125, 625, 3125, 15625, 78125, 390625, 1953125]"
            ]
          },
          "metadata": {},
          "execution_count": 13
        }
      ]
    },
    {
      "cell_type": "code",
      "source": [
        "# you run the loop command powers_of_five"
      ],
      "metadata": {
        "id": "Pl6xnpL9-oUN"
      },
      "execution_count": 14,
      "outputs": []
    },
    {
      "cell_type": "markdown",
      "source": [
        "#Run the myname code; with and without myname variable"
      ],
      "metadata": {
        "id": "eIRlzxnhJ2y-"
      }
    },
    {
      "cell_type": "code",
      "source": [
        "#Run the myname code; with and without myname variable"
      ],
      "metadata": {
        "id": "SgtdJIJm_Cz0"
      },
      "execution_count": null,
      "outputs": []
    },
    {
      "cell_type": "code",
      "source": [
        "# prompt: #Run the myname code; with and without myname variable\n",
        "\n",
        "# Run the myname code; with and without myname variable\n",
        "\n",
        "# Case 1: myname variable defined\n",
        "myname = \"Eagle Group Project Lab\"\n",
        "myname\n",
        "\n",
        "\n",
        "# Case 2: myname variable not defined (will result in an error if used)\n",
        "# The following line will cause an error if uncomment\n",
        "# print(myname)\n"
      ],
      "metadata": {
        "colab": {
          "base_uri": "https://localhost:8080/",
          "height": 35
        },
        "id": "OQ04x1aXJ8Xy",
        "outputId": "d73fdb59-3227-461f-b54f-7f85a38985cf"
      },
      "execution_count": 16,
      "outputs": [
        {
          "output_type": "execute_result",
          "data": {
            "text/plain": [
              "'Eagle Group Project Lab'"
            ],
            "application/vnd.google.colaboratory.intrinsic+json": {
              "type": "string"
            }
          },
          "metadata": {},
          "execution_count": 16
        }
      ]
    },
    {
      "cell_type": "markdown",
      "source": [
        "Creating A cvs file"
      ],
      "metadata": {
        "id": "GmG2XxtdKjYo"
      }
    },
    {
      "cell_type": "code",
      "source": [
        "# prompt: '''\n",
        "# Create a csv file with 10 rows and five features on your computer\n",
        "# Load the csv file into google colab, find the path and pass the path to pandas to open the csv file and print the top 5 rows of the data\n",
        "# features:\n",
        "# email, name, age, salary, gender\n",
        "# Plt age and salary using matplotlib\n",
        "# '''\n",
        "\n",
        "import csv\n",
        "import pandas as pd\n",
        "import matplotlib.pyplot as plt\n",
        "import os\n",
        "import random\n",
        "import string\n",
        "\n",
        "# Create a CSV file with random data\n",
        "def generate_random_string(length):\n",
        "    letters = string.ascii_lowercase\n",
        "    return ''.join(random.choice(letters) for i in range(length))\n",
        "\n",
        "num_rows = 10\n",
        "num_features = 5\n",
        "file_name = \"data.csv\"\n",
        "with open(file_name, 'w', newline='') as csvfile:\n",
        "    writer = csv.writer(csvfile)\n",
        "    writer.writerow([\"email\", \"name\", \"age\", \"salary\", \"gender\"])  # Header\n",
        "    for _ in range(num_rows):\n",
        "        email = generate_random_string(8) + \"@example.com\"  # Generate random email\n",
        "        name = generate_random_string(6)\n",
        "        age = random.randint(20, 60)\n",
        "        salary = random.randint(30000, 100000)\n",
        "        gender = random.choice([\"Male\", \"Female\"])\n",
        "        writer.writerow([email, name, age, salary, gender])\n",
        "\n",
        "# Upload the file to Google Colab (if not already uploaded)\n",
        "from google.colab import files\n",
        "#files.upload() #Uncomment this if you are not running this cell in colab and want to upload the file.\n",
        "# Find the file path. Assuming it's in the current working directory.\n",
        "file_path = os.path.abspath(file_name)\n",
        "\n",
        "# Load the CSV file into a pandas DataFrame\n",
        "df = pd.read_csv(file_path)\n",
        "print(\"Top 5 rows of the data:\\n\", df.head())\n",
        "\n",
        "# Plot age and salary using matplotlib\n",
        "plt.figure(figsize=(8, 6))\n",
        "plt.scatter(df['age'], df['salary'])\n",
        "plt.xlabel('Age')\n",
        "plt.ylabel('Salary')\n",
        "plt.title('Age vs. Salary')\n",
        "plt.grid(True)\n",
        "plt.show()\n"
      ],
      "metadata": {
        "colab": {
          "base_uri": "https://localhost:8080/",
          "height": 685
        },
        "id": "jaT6idxTKqIi",
        "outputId": "07409cc1-0b53-48d2-c18a-9dfd248c5c29"
      },
      "execution_count": 1,
      "outputs": [
        {
          "output_type": "stream",
          "name": "stdout",
          "text": [
            "Top 5 rows of the data:\n",
            "                   email    name  age  salary  gender\n",
            "0  crdsrxvs@example.com  jbcdbr   45   54704  Female\n",
            "1  tlsmwagf@example.com  onrxqe   59   58759  Female\n",
            "2  vtnzqxon@example.com  rmohpj   24   80619    Male\n",
            "3  eoxibcic@example.com  azxzlm   48   69565  Female\n",
            "4  rbwfhazm@example.com  ikypqo   57   76107    Male\n"
          ]
        },
        {
          "output_type": "display_data",
          "data": {
            "text/plain": [
              "<Figure size 800x600 with 1 Axes>"
            ],
            "image/png": "[encoded data removed]"
          },
          "metadata": {}
        }
      ]
    },
    {
      "cell_type": "code",
      "source": [
        "'''\n",
        "Create a csv file with 10 rows and five features on your computer\n",
        "Load the csv file into google colab, find the path and pass the path to pandas to open the csv file and print the top 5 rows of the data\n",
        "features:\n",
        "email, name, age, salary, gender\n",
        "Plt age and salary using matplotlib\n",
        "'''"
      ],
      "metadata": {
        "id": "I2G7G60k_blE",
        "outputId": "7c5b2897-74b1-44d9-f766-586816edb4ef",
        "colab": {
          "base_uri": "https://localhost:8080/",
          "height": 52
        }
      },
      "execution_count": 17,
      "outputs": [
        {
          "output_type": "execute_result",
          "data": {
            "text/plain": [
              "'\\nCreate a csv file with 10 rows and five features on your computer\\nLoad the csv file into google colab, find the path and pass the path to pandas to open the csv file and print the top 5 rows of the data\\nfeatures:\\nemail, name, age, salary, gender\\nPlt age and salary using matplotlib\\n'"
            ],
            "application/vnd.google.colaboratory.intrinsic+json": {
              "type": "string"
            }
          },
          "metadata": {},
          "execution_count": 17
        }
      ]
    }
  ]
}